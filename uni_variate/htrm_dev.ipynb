{
 "cells": [
  {
   "cell_type": "code",
   "execution_count": 9,
   "metadata": {
    "collapsed": false
   },
   "outputs": [],
   "source": [
    "from math import exp,log\n",
    "import numpy as np\n",
    "np.random.seed(0)\n",
    "from os import sys\n",
    "import numpy as np\n",
    "from scipy.special import lambertw\n",
    "from scipy.optimize import  bisect,newton\n",
    "import scipy.optimize as optimize\n",
    "\n",
    "sys.path.append(\"./lib_point_proc\")\n",
    "\n",
    "from basic_models import IntensityBasedPointProcessModel\n",
    "import utils\n",
    "from collections import defaultdict\n",
    "\n",
    "class HTRm (IntensityBasedPointProcessModel) :\n",
    "    \n",
    "    def __init__(self,r_0=0.0,a_s=0.0,b_s=0.0,T_s=[],a_h=0.0,b_h=0.0,kappa=0.0,\n",
    "                 all_realizations=defaultdict(list),cur_realization_key=\"\"):\n",
    "\n",
    "        self.r_0 = r_0\n",
    "        self.a_s = a_s\n",
    "        self.b_s = b_s\n",
    "        self.a_h = a_h\n",
    "        self.b_h = b_h\n",
    "        self.kappa = kappa\n",
    "        self.T_s = T_s\n",
    "        \n",
    "        self.all_realizations = all_realizations\n",
    "        self.cur_realization_key = cur_realization_key\n",
    "        \n",
    "        self.__d_lam_j  =0.0\n",
    "        self.__lam_j_1  =0.0\n",
    "        \n",
    "    def lamda_sale(self,t):\n",
    "        \n",
    "        T   = self.get_cur_realization()\n",
    "        T_s = self.T_s\n",
    "        \n",
    "        s   = 0\n",
    "        for j in range(0,len(T_s)):\n",
    "            if(T_s[j]<=t):\n",
    "                s += (t-T_s[j])*exp(- self.b_s*(t-T_s[j]))\n",
    "\n",
    "        return self.r_0 * (1 + self.a_s * s)\n",
    "\n",
    "    def Lamda_sale(self,t):\n",
    "        T   = self.get_cur_realization()\n",
    "        T_s = self.T_s\n",
    "        a_s = self.a_s\n",
    "        b_s = self.b_s\n",
    "        r_0 = self.r_0\n",
    "        t_0 = T[0]\n",
    "\n",
    "        s = 0\n",
    "        d = 1.0/b_s\n",
    "\n",
    "        for i in range(0,len(T_s)):\n",
    "            if(T_s[i]<=t):\n",
    "                h = max(0, t_0 - T_s[i])\n",
    "                g = max(0, t   - T_s[i])\n",
    "                s = s + ( exp(-b_s*h)*(h + d) ) - ( exp(-b_s*g)*( t - T_s[i] + d)  )\n",
    "        s = r_0*(t-t_0) + (r_0*a_s*d) * s\n",
    "\n",
    "        return s\n",
    "\n",
    "\n",
    "    def lamda_excite(self,t,L_t, L_T):\n",
    "\n",
    "        a_h = self.a_h\n",
    "        b_h = self.b_h\n",
    "        T   = self.get_cur_realization()\n",
    "\n",
    "        s   = 0\n",
    "        for j in range(0,len(T)):\n",
    "            if(T[j]<t):\n",
    "                try:\n",
    "                    s += exp(-b_h*(L_t-L_T[j]))\n",
    "                except:\n",
    "                    print b_h, L_t, L_T[j]\n",
    "\n",
    "        return (1 + a_h * s)\n",
    "        \n",
    "\n",
    "    def Omega(self,t,L_t, L_T):\n",
    "        \n",
    "        a_h = self.a_h\n",
    "        b_h = self.b_h\n",
    "        T   = self.get_cur_realization()\n",
    "        \n",
    "        s = 0\n",
    "        for j in range(0,len(T)):\n",
    "            if(T[j]<t):\n",
    "                try:\n",
    "                    s =  s + 1 - exp(-b_h*(L_t- L_T[j]))\n",
    "                except:\n",
    "                    print \"error:\" + str((L_t, L_T[j], b_h, T, L_T ))\n",
    "\n",
    "        return L_t+ (float(a_h)/b_h)*s\n",
    "\n",
    "    \n",
    "    def lamda_pre(self,t,O_t,O_T):\n",
    "        \n",
    "        T     =  self.get_cur_realization()\n",
    "        kappa =  self.kappa\n",
    "        n_t   = self.N_t(t)\n",
    "\n",
    "        if(len(T) ==0 or n_t ==0):\n",
    "\n",
    "            return 1.0\n",
    "        if(n_t == 1 and t == T[0]):\n",
    "            print \"n_t 1\"\n",
    "            return kappa*(1.0)\n",
    "        d = O_t-O_T[n_t-1]\n",
    "        if(d<0):\n",
    "            print \"delta \"+ str(d)\n",
    "        return kappa * utils.safe_pow(O_t-O_T[n_t-1],kappa-1) \n",
    "\n",
    "\n",
    "    def Psi(self,t,O_t,O_T):\n",
    "        \n",
    "        T     =  self.get_cur_realization()\n",
    "        kappa =  self.kappa\n",
    "\n",
    "        n_t  = self.N_t(t)\n",
    "        if(len(T)==0 or n_t ==0):\n",
    "            return 0.0\n",
    "\n",
    "        s = 0    \n",
    "        for j in range(1,n_t-1):\n",
    "            #print j,n_t,len(T),len(O_T)\n",
    "            s += utils.safe_pow(O_T[j+1] - O_T[j],kappa)\n",
    "\n",
    "        ret = s + utils.safe_pow(O_t - O_T[n_t-1],kappa)\n",
    "\n",
    "        return ret\n",
    "    \n",
    "\n",
    "    def lamda(self,t):\n",
    "\n",
    "\n",
    "        T = self.get_cur_realization()\n",
    "        \n",
    "        L_T = map(self.Lamda_sale,T)\n",
    "        O_T = []\n",
    "        for i in range(len(T)):\n",
    "            O_T.append(self.Omega(T[i],L_T[i], L_T))\n",
    "\n",
    "        L_t = self.Lamda_sale(t)\n",
    "        O_t = self.Omega(t, L_t, L_T)\n",
    "        \n",
    "        return self.lamda_sale(t)*self.lamda_excite(t,L_t,L_T)*self.lamda_pre(t,O_t,O_T)\n",
    "    \n",
    "\n",
    "    def Lamda(self):\n",
    "        raise(\"Not Implemented\")\n",
    "        \n",
    "    def log_lamda_all(self,t,L_T,O_T):\n",
    "        \n",
    "        T   =  self.get_cur_realization()\n",
    "        \n",
    "        L_t = self.Lamda_sale(t)\n",
    "\n",
    "        O_t = self.Omega(t,L_t, L_T)\n",
    "\n",
    "        l_sal_t = self.lamda_sale(t)\n",
    "        l_exc_t = self.lamda_excite(t,L_t,L_T)\n",
    "        l_pre_t = self.lamda_pre(t,O_t,O_T)\n",
    "\n",
    "\n",
    "        if(l_sal_t <0 or l_exc_t<0 or l_pre_t <0):\n",
    "            print \"-ve\" + str((l_sal_t,l_exc_t, l_pre_t))\n",
    "\n",
    "        if(l_sal_t == 0 or l_exc_t==0 or l_pre_t == 0):\n",
    "            print \"zero\" + str((l_sal_t,l_exc_t, l_pre_t))\n",
    "\n",
    "        if(l_sal_t ==0):\n",
    "            print \"l_sal_t=0\"\n",
    "            l_sal_t = 1.0 \n",
    "        if(l_exc_t ==0):\n",
    "            print \"l_exc_t=0\"\n",
    "            l_exc_t = 1.0\n",
    "        if(l_pre_t ==0):\n",
    "            print \"l_pre_t=0\"\n",
    "            l_pre_t = 1.0\n",
    "\n",
    "\n",
    "        return log(l_sal_t) + log(l_exc_t ) + log(l_pre_t)\n",
    "    \n",
    "    def log_likelihood_1(self):\n",
    "        \n",
    "        T     =  self.get_cur_realization()\n",
    "\n",
    "        t_max = T[-1]\n",
    "        L_T = map(self.Lamda_sale,T)\n",
    "        \n",
    "        O_T = []\n",
    "        for i in range(len(T)):\n",
    "            O_T.append(self.Omega(T[i],L_T[i],L_T))\n",
    "\n",
    "        L_t_mx = self.Lamda_sale(t_max)\n",
    "        O_t_mx = self.Omega(t_max, L_t_mx, L_T) \n",
    "\n",
    "        ll = 0\n",
    "        for t in T:\n",
    "            l = self.log_lamda_all(t, L_T, O_T)\n",
    "            ll += l\n",
    "\n",
    "        return ll - self.Psi(t_max, O_t_mx, O_T)\n",
    "\n",
    "    def log_likelihood(self):\n",
    "        \n",
    "        T     =  self.get_cur_realization()\n",
    "        t_max = T[-1]\n",
    "        \n",
    "        a_h   = self.a_h\n",
    "        b_h   = self.b_h\n",
    "\n",
    "        kappa = self.kappa\n",
    "\n",
    "        L_T     = map(self.Lamda_sale, T)\n",
    "        L_t_max = L_T[-1]\n",
    "\n",
    "        sale_s = 0\n",
    "        for t in T:\n",
    "            sale_s += log(self.lamda_sale(t))\n",
    "\n",
    "        n = len(T)\n",
    "        A = np.zeros(n)\n",
    "        hawk_s = 0\n",
    "        for j in range(0,n-1):\n",
    "\n",
    "            A[j+1] = (1+A[j])*exp(-b_h*(L_T[j+1] - L_T[j]))\n",
    "            hawk_s += log(1+ a_h*A[j])\n",
    "\n",
    "        hawk_s += log(1+a_h*A[n-1])\n",
    "\n",
    "        hawk_s_1= 0\n",
    "        for j in range(0,n):\n",
    "            hawk_s_1 += log(self.lamda_excite(T[j],L_T[j],L_T))\n",
    "\n",
    "        pre_s = 0\n",
    "        D_omg = np.zeros(n)\n",
    "        s1 = 0\n",
    "        s2 = 0\n",
    "\n",
    "\n",
    "        for j in range(1,n-1):\n",
    "            D_omg[j] = L_T[j+1] - L_T[j] + (a_h/b_h)*(1 + A[j] - A[j+1])\n",
    "            '''\n",
    "            if(L_T[j+1]-L_T[j]<0):\n",
    "                print L_T[j+1],L_T[j]\n",
    "            if(1 + A[j] - A[j+1]<0):\n",
    "                print  A[j],A[j+1]\n",
    "            '''    \n",
    "            if(D_omg[j]<0):\n",
    "                print\"D_omg\"+ str((D_omg[j],L_T[j+1],L_T[j],A[j],A[j+1]))\n",
    "                D_omg[j]=1.0\n",
    "            if(D_omg[j]==0):\n",
    "                D_omg[j]=1.0\n",
    "            s1 += log(D_omg[j])\n",
    "            s2 += (D_omg[j])**(kappa)\n",
    "\n",
    "        pre_s = (n-1)*log(kappa) + (kappa-1)* s1 - s2\n",
    "        # O_T[1] = L_T[1]  eqn 18\n",
    "\n",
    "        ex = L_t_max - L_T[-1] + (a_h/b_h)*(1+ A[-1])*(1- exp(-b_h*(L_t_max- L_T[-1]))) \n",
    "\n",
    "        #print sale_s, hawk_s, pre_s, L_T[1]**kappa, ex**kappa\n",
    "        #print hawk_s_1\n",
    "        return sale_s + hawk_s + pre_s - L_T[1]**kappa - ex**kappa\n",
    "    \n",
    "    def fit_ml e_params(self,tol=1e-15):\n",
    "        \n",
    "        def obj(x):\n",
    "            if(min(x)<0):\n",
    "                return 10000000\n",
    "            self.r_0  = x[0]\n",
    "            self.a_s  = x[1]\n",
    "            self.b_s  = x[2]\n",
    "            self.a_h  = x[3]\n",
    "            self.b_h  = x[4]\n",
    "            self.kappa = x[5]\n",
    "            \n",
    "            l = -self.log_likelihood()\n",
    "            return l\n",
    "                \n",
    "\n",
    "        bnds = ((0.00001, 10.0), (0.00001,10.0), (0.00001,10.0),(0.00001,10.0),(0.00001,10.0),(0.00001,10.0))\n",
    "        res = optimize.minimize(obj, x0= (0.00001,0.00001,0.00001,0.00001,0.00001,0.00001),\n",
    "                                method=\"L-BFGS-B\",bounds=bnds,tol=tol)\n",
    "         \n",
    "        self.r_0  = res.x[0]\n",
    "        self.a_s  = res.x[1]\n",
    "        self.b_s  = res.x[2]\n",
    "        self.a_h  = res.x[3]\n",
    "        self.b_h  = res.x[4]\n",
    "        self.kappa = res.x[5]\n",
    "        \n",
    "        return res\n",
    "    \n",
    "\n",
    "    \n",
    "    #def fit_map_params(self):\n",
    "    def fit_em_map_params(self,max_iters=50,threshold=0.01):\n",
    "        from scipy.special import psi\n",
    "        from scipy.optimize import  bisect,newton\n",
    "        from pymc import Gamma,MCMC\n",
    "        import pymc\n",
    "                \n",
    "        def __converged(c_mu, p_mu,tol=0.01):\n",
    "\n",
    "            for k in c_mu.keys():\n",
    "                if(abs(c_mu[k]-p_mu[k])>tol):\n",
    "                    return False\n",
    "\n",
    "            return True\n",
    "\n",
    "\n",
    "        def __nu_update_func(x):\n",
    "\n",
    "            if(x<=0.0):\n",
    "                x = 0.00001\n",
    "            return log(x) - psi(x) - log(mu_c[cur_k]) + e_log_theta_dict[cur_k]\n",
    "\n",
    "        T = self.get_cur_realization()\n",
    "\n",
    "        mu_p = {\"a_s\":1.0,  \"b_s\":1.0,  \"r_0\":1.0,\"a_h\":1.0, \"b_h\":2.0,  \"kappa\":1.0}\n",
    "        nu_p = {\"a_s\":1.0,  \"b_s\":1.0,  \"r_0\":1.0,\"a_h\":1.0,  \"b_h\":1.0,  \"kappa\":1.0}\n",
    "\n",
    "        mu_c = mu_p.copy()\n",
    "        nu_c = mu_p.copy()\n",
    "        \n",
    "        cur_k = \"a_s\"\n",
    "        e_log_theta_dict = {}\n",
    "\n",
    "        param_names = [\"a_s\",\"b_s\",\"r_0\",\"a_h\",\"b_h\",\"kappa\"]\n",
    "\n",
    "        i = 0\n",
    "\n",
    "        ll_ar = []\n",
    "\n",
    "        while i < max_iters :\n",
    "\n",
    "            a_s = Gamma( 'a_s', alpha=nu_c[\"a_s\"], beta=nu_c[\"a_s\"]/mu_c[\"a_s\"])\n",
    "            b_s = Gamma( 'b_s', alpha=nu_c[\"b_s\"], beta=nu_c[\"b_s\"]/mu_c[\"b_s\"])\n",
    "            r_0 = Gamma( 'r_0', alpha=nu_c[\"r_0\"], beta=nu_c[\"r_0\"]/mu_c[\"r_0\"])\n",
    "\n",
    "            a_h = Gamma( 'a_h', alpha=nu_c[\"a_h\"], beta=nu_c[\"a_h\"]/mu_c[\"a_h\"])\n",
    "            b_h = Gamma( 'b_h', alpha=nu_c[\"b_h\"], beta=nu_c[\"b_h\"]/mu_c[\"b_h\"])\n",
    "\n",
    "            kappa = Gamma( 'kappa', alpha=nu_c[\"kappa\"], beta=nu_c[\"kappa\"]/mu_c[\"kappa\"])\n",
    "\n",
    "\n",
    "\n",
    "            c = (mu_c[\"a_h\"]+mu_c[\"b_h\"])\n",
    "            p_h = {\"a_s\":mu_c[\"a_s\"], \"b_s\":mu_c[\"b_s\"], \"r_0\":mu_c[\"r_0\"], \"kappa\":mu_c[\"kappa\"], \n",
    "                   \"a_h\":mu_c[\"a_h\"]/c, \"b_h\":mu_c[\"b_h\"]/c, \"T_s\":T_s}\n",
    "\n",
    "            t_max = T[-1]\n",
    "\n",
    "            @pymc.stochastic(observed=True)\n",
    "            def htrm_stochastic(value=T,a_s =a_s, b_s=b_s,r_0=r_0, \n",
    "                                  a_h=a_h, b_h = b_h, kappa =kappa ):\n",
    "\n",
    "                #params = {\"a_s\":a_s, \"b_s\":b_s, \"r_0\":r_0, \"a_h\":a_h,\"b_h\":b_h, \"kappa\":kappa, \"T_s\":T_s,\"t_0\":t_0}\n",
    "                self.a_s = a_s\n",
    "                self.b_s = b_s\n",
    "                self.r_0 = r_0\n",
    "                self.a_h = a_h\n",
    "                self.b_h = b_h\n",
    "                self.kappa = kappa\n",
    "                \n",
    "                l      = self.log_likelihood_1()\n",
    "                return l\n",
    "\n",
    "\n",
    "            model = MCMC([htrm_stochastic,a_s,b_s,r_0,a_h,b_h,kappa])\n",
    "            #model.use_step_method(pymc.Metropolis, a_s, proposal_sd=1., proposal_distribution='Normal')\n",
    "\n",
    "            model.sample(iter=1000, burn=100,thin=80)\n",
    "            mu_p = mu_c.copy()\n",
    "            nu_p = nu_c.copy()\n",
    "\n",
    "            for p in param_names:\n",
    "                samples = model.trace(p)[:]\n",
    "                mu_c[p] = samples.mean()\n",
    "                e_log_theta_dict[p] = np.array(map(log,samples)).mean()\n",
    "\n",
    "            for k in mu_c.keys():\n",
    "                cur_k = k\n",
    "                #nu[cur_mu] = bisect(func2,0.01, 100000)\n",
    "                nu_c[cur_k] = newton(__nu_update_func,nu_p[cur_k],tol=0.0001,maxiter=10000)\n",
    "\n",
    "            c = (mu_c[\"a_h\"]+mu_c[\"b_h\"])\n",
    "            print \"\\n iteration: \"+ str(i)\n",
    "\n",
    "            print mu_c[\"a_s\"],mu_c[\"b_s\"],mu_c[\"r_0\"],mu_c[\"a_h\"],mu_c[\"b_h\"],mu_c[\"kappa\"],mu_c[\"a_h\"]/c, mu_c[\"b_h\"]/c\n",
    "            mu_c[\"a_h\"] /=c\n",
    "            mu_c[\"b_h\"] /=c\n",
    "\n",
    "            p_h = {\"a_s\":mu_c[\"a_s\"], \"b_s\":mu_c[\"b_s\"], \"r_0\":mu_c[\"r_0\"], \"kappa\":mu_c[\"kappa\"], \n",
    "                   \"a_h\":mu_c[\"a_h\"]/c, \"b_h\":mu_c[\"b_h\"]/c, \"T_s\":T_s}\n",
    "\n",
    "            self.a_s = mu_c[\"a_s\"]\n",
    "            self.b_s = mu_c[\"b_s\"]\n",
    "            self.r_0 = mu_c[\"r_0\"]\n",
    "            self.a_h = mu_c[\"a_h\"]\n",
    "            self.b_h = mu_c[\"b_h\"]\n",
    "            self.kappa = mu_c[\"kappa\"]\n",
    "            \n",
    "            if(__converged(mu_c,mu_p,0.01)):\n",
    "                print \"Converged\"\n",
    "                break\n",
    "            i+=1\n",
    "\n",
    "\n",
    "    def sample(self,t_0=0,t_max=1000,n_samples=100):\n",
    "        \n",
    "        def __func(t):\n",
    "\n",
    "            lam = self.Lamda_sale(t)\n",
    "\n",
    "            return lam - lam_j_1 - d_lam_j   \n",
    "\n",
    "\n",
    "        def __gradient(t):\n",
    "            r_0  = self.r_0\n",
    "            a_s  = self.a_s\n",
    "            b_s  = self.b_s\n",
    "\n",
    "            s   = 0\n",
    "            for j in range(0,len(T_s)):\n",
    "                if(T_s[j]<=t):\n",
    "                    s += (t-T_s[j])*exp(-b_s*(t-T_s[j]))\n",
    "\n",
    "            return r_0 * (1 + a_s * s)\n",
    "        \n",
    "        T       = np.zeros(n_samples)\n",
    "        self.all_realizations[\"cur_sample\"]= T\n",
    "        self.cur_realization_key = \"cur_sample\"\n",
    "        \n",
    "\n",
    "        T_s  = self.T_s\n",
    "\n",
    "        d_lam_j = 0.0\n",
    "\n",
    "        psi     = [0]\n",
    "        omg     = [0]\n",
    "\n",
    "        b_h     = self.b_h\n",
    "        a_h     = self.a_h\n",
    "        kappa   = self.kappa\n",
    "        \n",
    "        T[0]    = t_0  #???\n",
    "\n",
    "        d_psi = np.random.exponential(1.0, n_samples+1)\n",
    "\n",
    "        d_psi[0]= 0\n",
    "\n",
    "        d_omg = d_psi**(1.0/kappa)\n",
    "\n",
    "        d_lam = np.zeros(len(d_omg))\n",
    "\n",
    "        d_lam[0] = 0.0\n",
    "\n",
    "        B = a_h/b_h\n",
    "\n",
    "        for j in range(1,n_samples):\n",
    "\n",
    "            lam_j_1  = self.Lamda_sale(T[j-1])\n",
    "\n",
    "            d_lam[j]     = d_omg[j] - B + (1.0/b_h) *lambertw( b_h * B * exp(-b_h * ( d_omg[j]-B) ) ).real \n",
    "            B = (a_h/b_h) * ( 1 + B * exp(-b_h * d_lam[j]) )\n",
    "            d_lam_j = d_lam[j]\n",
    "\n",
    "            #t = bisect(self.__func,T[j-1],T[j-1]+1000)\n",
    "\n",
    "            t = newton(__func,T[j-1], tol=0.0001,maxiter=100000)\n",
    "            T[j] = t\n",
    "            #T.sort() # to find the t_j in the neighbourhood of t_{j-1} \n",
    "        return T\n",
    "    \n",
    "    def next_k_sample(self,k=1):\n",
    "\n",
    "        __d_lam_j = 0.0\n",
    "        T_s = self.T_s\n",
    "\n",
    "        psi     = [0]\n",
    "        omg     = [0]\n",
    "\n",
    "        b_h     = self.b_h\n",
    "        a_h     = self.a_h\n",
    "        kappa   = self.kappa\n",
    "\n",
    "        cur_samples = self.get_cur_realization()\n",
    "        \n",
    "        n       = len(cur_samples)\n",
    "        T       = np.zeros(n+k)\n",
    "        np.copyto(T[:n],cur_samples)\n",
    "\n",
    "        d_psi   = np.random.exponential(1.0, len(T)+1)\n",
    "        d_psi[0]= 0\n",
    "\n",
    "        d_omg   = d_psi**(1.0/kappa)\n",
    "\n",
    "        d_lam   = np.zeros(len(d_omg))\n",
    "\n",
    "        d_lam[0]= 0.0\n",
    "\n",
    "        B       = a_h/b_h\n",
    "\n",
    "        for j in range(1,n+k):\n",
    "\n",
    "            self.__lam_j_1  = Lambda_sale(T[j-1],T[:j],params)\n",
    "\n",
    "            d_lam[j] = d_omg[j] - B + (1.0/b_h) *lambertw( b_h * B * exp(-b_h * ( d_omg[j]-B) ) ).real \n",
    "            B        = (a_h/b_h) * ( 1 + B * exp(-b_h * d_lam[j]) )\n",
    "            self.__d_lam_j  = d_lam[j]\n",
    "\n",
    "            if( j>= len(cur_samples) ):\n",
    "\n",
    "                t    = newton(__func,T[j-1]+1, tol=0.001,maxiter=100000)\n",
    "                #t =  bisect(func,T[j-1],T[j-1]+100)\n",
    "\n",
    "                T[j] = t\n",
    "\n",
    "        return T[n:]\n",
    "\n",
    "    def __str__(self):\n",
    "        return str({\"a_s\":self.a_s,\"b_s\":self.b_s,\"r_0\":self.r_0,\"a_h\":self.a_h,\"b_h\":self.b_h,\"kappa\":self.kappa})\n",
    "\n"
   ]
  },
  {
   "cell_type": "code",
   "execution_count": 10,
   "metadata": {
    "collapsed": false
   },
   "outputs": [
    {
     "name": "stdout",
     "output_type": "stream",
     "text": [
      "[   1.            9.47694647   15.04343762   19.45771804   20.86731612\n",
      "   22.16116202   22.81904677   28.43696755   43.74959183   44.50293434\n",
      "   48.98289614   52.40886684   56.83017476   76.68209759   77.05522801\n",
      "   77.43265239   77.50919579   87.48705263   97.65877102  112.94666435\n",
      "  146.27926675  157.82541302  161.35641962  171.11989111  171.74170524\n",
      "  177.09130862  177.80479288  199.13912432  203.55358291  206.33204111\n",
      "  207.74605403  216.42072822  219.75473617  224.30291036  224.38724062\n",
      "  229.07481348  234.28314569  239.77230679  262.58655928  270.12138185\n",
      "  272.48387349  275.3170133   282.13513218  282.4249491   288.12492161\n",
      "  294.67275947  295.82877341  296.40823102  297.97553333  299.91671291]\n",
      "-138.464379156\n",
      "1.10463335336\n",
      "{'spearmanr': {'p-value': 0.51170064725614706, 'coef': 0.09704732957012592}, 'pearsonr': {'p-value': 0.23746137418278329, 'coef': 0.17379385692351207}}\n"
     ]
    }
   ],
   "source": [
    "\n",
    "%matplotlib inline\n",
    "T_s = [20,40] # Sales points\n",
    "\n",
    "#params = {\"a_s\":5.0, \"b_s\":0.5, \"r_0\":0.1, \"t_0\":1.0, \"kappa\":1.0, \"a_h\":1.0, \"b_h\":2.0,\"T_s\":T_s}\n",
    "\n",
    "htrm = HTRm(a_s=5.0,b_s=0.5,r_0=0.1,kappa=1.0,a_h=1.0,b_h=2.0,T_s=[20,40])\n",
    "T = htrm.sample(n_samples=50,t_0=1.0)\n",
    "print T\n",
    "#htrm.plot()\n",
    "print htrm.log_likelihood_1()\n",
    "print htrm.coef_variation()\n",
    "print htrm.iei_corr()\n"
   ]
  },
  {
   "cell_type": "code",
   "execution_count": 7,
   "metadata": {
    "collapsed": false
   },
   "outputs": [
    {
     "data": {
      "image/png": "[encoded data removed]",
      "text/plain": [
       "<matplotlib.figure.Figure at 0x7fca2f209790>"
      ]
     },
     "metadata": {},
     "output_type": "display_data"
    }
   ],
   "source": [
    "htrm.plot()"
   ]
  },
  {
   "cell_type": "code",
   "execution_count": 11,
   "metadata": {
    "collapsed": false,
    "scrolled": true
   },
   "outputs": [
    {
     "name": "stdout",
     "output_type": "stream",
     "text": [
      " [-----------------100%-----------------] 1000 of 1000 complete in 23.9 sec\n",
      " iteration: 0\n",
      "1.27803948491 0.84235461762 0.141851421357 0.401544538088 2.85268935394 0.938329578573 0.123391419121 0.876608580879\n",
      " [-----------------100%-----------------] 1000 of 1000 complete in 23.2 sec\n",
      " iteration: 1\n",
      "2.46080532676 0.851136031541 0.142622468398 0.105035928628 1.39996963201 0.955470862799 0.0697910568406 0.930208943159\n",
      " [-----------------100%-----------------] 1000 of 1000 complete in 22.9 sec\n",
      " iteration: 2\n",
      "2.74229072924 1.00667372757 0.143936882999 0.0452484927322 0.930463983753 0.96261908806 0.0463748223198 0.95362517768\n",
      " [-----------------100%-----------------] 1000 of 1000 complete in 23.0 sec\n",
      " iteration: 3\n",
      "2.72914509715 0.832884327236 0.140324535045 0.0501714466798 0.933065852702 0.970884956893 0.0510267935435 0.948973206456\n",
      " [-----------------100%-----------------] 1000 of 1000 complete in 22.8 sec\n",
      " iteration: 4\n",
      "3.23533544258 0.769296864527 0.143174363356 0.0493198138423 0.964825779987 0.941562536919 0.0486318869227 0.951368113077\n",
      " [-----------------100%-----------------] 1000 of 1000 complete in 22.2 sec\n",
      " iteration: 5\n",
      "4.02750923094 0.713697149589 0.144242085508 0.0570979820747 0.988907186448 0.942015826864 0.0545867112257 0.945413288774\n",
      " [-----------------100%-----------------] 1000 of 1000 complete in 22.3 sec\n",
      " iteration: 6\n",
      "4.15793870146 0.631856112322 0.143351192342 0.0497807155322 0.989880944634 0.947746905739 0.0478816498092 0.952118350191\n",
      " [-----------------100%-----------------] 1000 of 1000 complete in 24.2 sec\n",
      " iteration: 7\n",
      "4.28427981818 0.655953583039 0.142917912089 0.0515462927728 1.05019614994 0.950010300752 0.0467861550706 0.953213844929\n",
      " [-----------------100%-----------------] 1000 of 1000 complete in 23.9 sec\n",
      " iteration: 8\n",
      "3.67121062886 0.587122975176 0.14195171862 0.0445896586065 0.92489000852 0.949868028318 0.0459933922479 0.954006607752\n",
      " [-----------------100%-----------------] 1000 of 1000 complete in 22.9 sec\n",
      " iteration: 9\n",
      "3.77292131302 0.54944641797 0.14169531454 0.0467619100615 0.99325978945 0.953482187382 0.0449624369217 0.955037563078\n",
      " [-----------------100%-----------------] 1000 of 1000 complete in 23.5 sec\n",
      " iteration: 10\n",
      "3.38891113009 0.530134452301 0.141887113764 0.0442667432841 0.924127896093 0.963117569854 0.0457114708034 0.954288529197\n",
      " [-----------------100%-----------------] 1000 of 1000 complete in 24.7 sec\n",
      " iteration: 11\n",
      "3.63979373331 0.537252660153 0.14124253481 0.0483903633538 1.05924501626 0.961281340532 0.043687989969 0.956312010031\n",
      " [-----------------100%-----------------] 1000 of 1000 complete in 24.1 sec\n",
      " iteration: 12\n",
      "4.00669333968 0.539280287845 0.141562603277 0.0422134609447 1.04488345451 0.953875257775 0.0388313685235 0.961168631476\n",
      " [-----------------100%-----------------] 1000 of 1000 complete in 24.0 sec\n",
      " iteration: 13\n",
      "4.21370713517 0.541470498105 0.141291670922 0.0350528310629 0.958156449816 0.952017800064 0.0352924924663 0.964707507534\n",
      " [-----------------100%-----------------] 1000 of 1000 complete in 24.3 sec\n",
      " iteration: 14\n",
      "4.18812845265 0.53583983826 0.14027866111 0.0335461179534 1.02355087096 0.94445092275 0.0317341911909 0.968265808809\n",
      " [-----------------100%-----------------] 1000 of 1000 complete in 23.9 sec\n",
      " iteration: 15\n",
      "4.23624447396 0.534947751772 0.140265046011 0.0253007539472 0.936382464426 0.94270458303 0.0263088233878 0.973691176612\n",
      " [-----------------100%-----------------] 1000 of 1000 complete in 24.0 sec\n",
      " iteration: 16\n",
      "4.07237706729 0.531808819884 0.140049583001 0.0246406887759 0.937455283411 0.941991090702 0.0256114665151 0.974388533485\n",
      " [-----------------100%-----------------] 1000 of 1000 complete in 24.0 sec\n",
      " iteration: 17\n",
      "4.13329140647 0.531980806893 0.1399823413 0.0250319634135 0.984143549137 0.938448263671 0.0248043705997 0.9751956294\n",
      " [-----------------100%-----------------] 1000 of 1000 complete in 23.2 sec\n",
      " iteration: 18\n",
      "4.01837335465 0.533230294691 0.140344310441 0.0236737140869 0.981845572983 0.933370106315 0.0235437692656 0.976456230734\n",
      " [                  2%                  ] 22 of 1000 complete in 0.5 sec"
     ]
    },
    {
     "name": "stderr",
     "output_type": "stream",
     "text": [
      "/home/harit.vishwakarma/.h/miniconda2/lib/python2.7/site-packages/scipy/optimize/zeros.py:173: RuntimeWarning: Tolerance of 0.00110354321077 reached\n",
      "  warnings.warn(msg, RuntimeWarning)\n"
     ]
    },
    {
     "name": "stdout",
     "output_type": "stream",
     "text": [
      " [-----------------100%-----------------] 1000 of 1000 complete in 23.5 sec\n",
      " iteration: 19\n",
      "4.21615509451 0.533655152026 0.140147852115 0.0250259260145 0.986272290677 0.933628288248 0.0247463365419 0.975253663458\n"
     ]
    },
    {
     "name": "stderr",
     "output_type": "stream",
     "text": [
      "/home/harit.vishwakarma/.h/miniconda2/lib/python2.7/site-packages/scipy/optimize/zeros.py:173: RuntimeWarning: Tolerance of 0.000107286497951 reached\n",
      "  warnings.warn(msg, RuntimeWarning)\n"
     ]
    },
    {
     "name": "stdout",
     "output_type": "stream",
     "text": [
      " [-----------------100%-----------------] 1000 of 1000 complete in 23.5 sec\n",
      " iteration: 20\n",
      "4.18795036412 0.531168811485 0.139839274021 0.0252677477712 0.973142450663 0.933654553154 0.0253079824414 0.974692017559\n",
      " [                  2%                  ] 23 of 1000 complete in 0.5 sec"
     ]
    },
    {
     "name": "stderr",
     "output_type": "stream",
     "text": [
      "/home/harit.vishwakarma/.h/miniconda2/lib/python2.7/site-packages/scipy/optimize/zeros.py:173: RuntimeWarning: Tolerance of -0.00125805544667 reached\n",
      "  warnings.warn(msg, RuntimeWarning)\n",
      "/home/harit.vishwakarma/.h/miniconda2/lib/python2.7/site-packages/scipy/optimize/zeros.py:173: RuntimeWarning: Tolerance of -0.829580012709 reached\n",
      "  warnings.warn(msg, RuntimeWarning)\n"
     ]
    },
    {
     "name": "stdout",
     "output_type": "stream",
     "text": [
      " [-----------------100%-----------------] 1000 of 1000 complete in 24.3 sec\n",
      " iteration: 21\n",
      "4.16081694085 0.531515100927 0.1396734662 0.0249518160457 0.969009277183 0.933672381067 0.0251034132178 0.974896586782\n"
     ]
    },
    {
     "name": "stderr",
     "output_type": "stream",
     "text": [
      "/home/harit.vishwakarma/.h/miniconda2/lib/python2.7/site-packages/scipy/optimize/zeros.py:173: RuntimeWarning: Tolerance of -0.000408180756494 reached\n",
      "  warnings.warn(msg, RuntimeWarning)\n",
      "/home/harit.vishwakarma/.h/miniconda2/lib/python2.7/site-packages/scipy/optimize/zeros.py:173: RuntimeWarning: Tolerance of 34.2651518583 reached\n",
      "  warnings.warn(msg, RuntimeWarning)\n"
     ]
    },
    {
     "name": "stdout",
     "output_type": "stream",
     "text": [
      " [-----------------100%-----------------] 1000 of 1000 complete in 24.2 sec\n",
      " iteration: 22\n",
      "4.14866678379 0.528516517392 0.139754593739 0.025350274959 0.983125192555 0.933723551536 0.0251372252232 0.974862774777\n"
     ]
    },
    {
     "name": "stderr",
     "output_type": "stream",
     "text": [
      "/home/harit.vishwakarma/.h/miniconda2/lib/python2.7/site-packages/scipy/optimize/zeros.py:173: RuntimeWarning: Tolerance of -106.10217008 reached\n",
      "  warnings.warn(msg, RuntimeWarning)\n",
      "/home/harit.vishwakarma/.h/miniconda2/lib/python2.7/site-packages/scipy/optimize/zeros.py:173: RuntimeWarning: Tolerance of 2.33230386554e+13 reached\n",
      "  warnings.warn(msg, RuntimeWarning)\n"
     ]
    },
    {
     "name": "stdout",
     "output_type": "stream",
     "text": [
      " [-----------------100%-----------------] 1000 of 1000 complete in 23.4 sec\n",
      " iteration: 23\n",
      "4.12584046177 0.528830615215 0.139753064019 0.0233811829616 0.978344180756 0.933723389153 0.0233409113999 0.9766590886\n",
      " [                  2%                  ] 22 of 1000 complete in 0.5 sec"
     ]
    },
    {
     "name": "stderr",
     "output_type": "stream",
     "text": [
      "/home/harit.vishwakarma/.h/miniconda2/lib/python2.7/site-packages/scipy/optimize/zeros.py:173: RuntimeWarning: Tolerance of 4.14744911691e+13 reached\n",
      "  warnings.warn(msg, RuntimeWarning)\n",
      "/home/harit.vishwakarma/.h/miniconda2/lib/python2.7/site-packages/scipy/optimize/zeros.py:173: RuntimeWarning: Tolerance of 7183648776.95 reached\n",
      "  warnings.warn(msg, RuntimeWarning)\n"
     ]
    },
    {
     "name": "stdout",
     "output_type": "stream",
     "text": [
      " [-----------------100%-----------------] 1000 of 1000 complete in 24.0 sec\n",
      " iteration: 24\n",
      "4.15490252499 0.530701581116 0.139753041508 0.024219787449 0.978026758053 0.933723696955 0.0241654985569 0.975834501443\n"
     ]
    },
    {
     "name": "stderr",
     "output_type": "stream",
     "text": [
      "/home/harit.vishwakarma/.h/miniconda2/lib/python2.7/site-packages/scipy/optimize/zeros.py:173: RuntimeWarning: Tolerance of 8249032553.14 reached\n",
      "  warnings.warn(msg, RuntimeWarning)\n",
      "/home/harit.vishwakarma/.h/miniconda2/lib/python2.7/site-packages/scipy/optimize/zeros.py:173: RuntimeWarning: Tolerance of 7184007959.39 reached\n",
      "  warnings.warn(msg, RuntimeWarning)\n"
     ]
    },
    {
     "name": "stdout",
     "output_type": "stream",
     "text": [
      " [-----------------100%-----------------] 1000 of 1000 complete in 23.7 sec\n",
      " iteration: 25\n",
      "4.10652858599 0.527696328771 0.13975303284 0.0242422746629 0.976744901973 0.933723841673 0.024218366857 0.975781633143\n"
     ]
    },
    {
     "name": "stderr",
     "output_type": "stream",
     "text": [
      "/home/harit.vishwakarma/.h/miniconda2/lib/python2.7/site-packages/scipy/optimize/zeros.py:173: RuntimeWarning: Tolerance of 8249445004.77 reached\n",
      "  warnings.warn(msg, RuntimeWarning)\n",
      "/home/harit.vishwakarma/.h/miniconda2/lib/python2.7/site-packages/scipy/optimize/zeros.py:173: RuntimeWarning: Tolerance of 7184367159.78 reached\n",
      "  warnings.warn(msg, RuntimeWarning)\n"
     ]
    },
    {
     "name": "stdout",
     "output_type": "stream",
     "text": [
      " [-----------------100%-----------------] 1000 of 1000 complete in 23.8 sec\n",
      " iteration: 26\n",
      "4.1425204002 0.527343029024 0.139753033365 0.0236834416434 0.974976621658 0.933723734319 0.023715218535 0.976284781465\n"
     ]
    },
    {
     "name": "stderr",
     "output_type": "stream",
     "text": [
      "/home/harit.vishwakarma/.h/miniconda2/lib/python2.7/site-packages/scipy/optimize/zeros.py:173: RuntimeWarning: Tolerance of 8249857477.02 reached\n",
      "  warnings.warn(msg, RuntimeWarning)\n",
      "/home/harit.vishwakarma/.h/miniconda2/lib/python2.7/site-packages/scipy/optimize/zeros.py:173: RuntimeWarning: Tolerance of 7184726378.14 reached\n",
      "  warnings.warn(msg, RuntimeWarning)\n"
     ]
    },
    {
     "name": "stdout",
     "output_type": "stream",
     "text": [
      " [-----------------100%-----------------] 1000 of 1000 complete in 23.6 sec\n",
      " iteration: 27\n",
      "4.12006996468 0.527433290085 0.139753008879 0.0227070458141 0.976300340666 0.93372371067 0.0227296075299 0.97727039247\n",
      " [                  2%                  ] 20 of 1000 complete in 0.5 sec"
     ]
    },
    {
     "name": "stderr",
     "output_type": "stream",
     "text": [
      "/home/harit.vishwakarma/.h/miniconda2/lib/python2.7/site-packages/scipy/optimize/zeros.py:173: RuntimeWarning: Tolerance of 8250269969.89 reached\n",
      "  warnings.warn(msg, RuntimeWarning)\n",
      "/home/harit.vishwakarma/.h/miniconda2/lib/python2.7/site-packages/scipy/optimize/zeros.py:173: RuntimeWarning: Tolerance of 7185085614.47 reached\n",
      "  warnings.warn(msg, RuntimeWarning)\n"
     ]
    },
    {
     "name": "stdout",
     "output_type": "stream",
     "text": [
      " [-----------------100%-----------------] 1000 of 1000 complete in 23.7 sec\n",
      " iteration: 28\n",
      "4.08778096303 0.526634773058 0.13975302849 0.0215447274935 0.978343480358 0.933723797477 0.0215471362941 0.978452863706\n",
      " [                  2%                  ] 23 of 1000 complete in 0.5 sec"
     ]
    },
    {
     "name": "stderr",
     "output_type": "stream",
     "text": [
      "/home/harit.vishwakarma/.h/miniconda2/lib/python2.7/site-packages/scipy/optimize/zeros.py:173: RuntimeWarning: Tolerance of 8250682483.39 reached\n",
      "  warnings.warn(msg, RuntimeWarning)\n",
      "/home/harit.vishwakarma/.h/miniconda2/lib/python2.7/site-packages/scipy/optimize/zeros.py:173: RuntimeWarning: Tolerance of 7185444868.75 reached\n",
      "  warnings.warn(msg, RuntimeWarning)\n"
     ]
    },
    {
     "name": "stdout",
     "output_type": "stream",
     "text": [
      " [-----------------100%-----------------] 1000 of 1000 complete in 23.9 sec\n",
      " iteration: 29\n",
      "4.03024845422 0.526190849014 0.139753036009 0.0212977422011 0.976927305264 0.933723694918 0.0213356118995 0.978664388101\n"
     ]
    },
    {
     "name": "stderr",
     "output_type": "stream",
     "text": [
      "/home/harit.vishwakarma/.h/miniconda2/lib/python2.7/site-packages/scipy/optimize/zeros.py:173: RuntimeWarning: Tolerance of 8251095017.52 reached\n",
      "  warnings.warn(msg, RuntimeWarning)\n",
      "/home/harit.vishwakarma/.h/miniconda2/lib/python2.7/site-packages/scipy/optimize/zeros.py:173: RuntimeWarning: Tolerance of 7185804140.98 reached\n",
      "  warnings.warn(msg, RuntimeWarning)\n",
      "/home/harit.vishwakarma/.h/miniconda2/lib/python2.7/site-packages/scipy/optimize/zeros.py:173: RuntimeWarning: Tolerance of 0.00010010326514 reached\n",
      "  warnings.warn(msg, RuntimeWarning)\n"
     ]
    },
    {
     "name": "stdout",
     "output_type": "stream",
     "text": [
      " [-----------------100%-----------------] 1000 of 1000 complete in 23.5 sec\n",
      " iteration: 30\n",
      "4.07460330182 0.526348297816 0.139753046173 0.0219125847446 0.981902530196 0.933723789239 0.0218293034429 0.978170696557\n"
     ]
    },
    {
     "name": "stderr",
     "output_type": "stream",
     "text": [
      "/home/harit.vishwakarma/.h/miniconda2/lib/python2.7/site-packages/scipy/optimize/zeros.py:173: RuntimeWarning: Tolerance of 8251507572.27 reached\n",
      "  warnings.warn(msg, RuntimeWarning)\n",
      "/home/harit.vishwakarma/.h/miniconda2/lib/python2.7/site-packages/scipy/optimize/zeros.py:173: RuntimeWarning: Tolerance of 7186163431.2 reached\n",
      "  warnings.warn(msg, RuntimeWarning)\n",
      "/home/harit.vishwakarma/.h/miniconda2/lib/python2.7/site-packages/scipy/optimize/zeros.py:173: RuntimeWarning: Tolerance of 49171.8258114 reached\n",
      "  warnings.warn(msg, RuntimeWarning)\n"
     ]
    },
    {
     "name": "stdout",
     "output_type": "stream",
     "text": [
      " [-----------------100%-----------------] 1000 of 1000 complete in 23.4 sec\n",
      " iteration: 31\n",
      "4.16652131527 0.526341184325 0.139753080864 0.0218615908912 0.977012114067 0.933723585103 0.0218862412562 0.978113758744\n"
     ]
    },
    {
     "name": "stderr",
     "output_type": "stream",
     "text": [
      "/home/harit.vishwakarma/.h/miniconda2/lib/python2.7/site-packages/scipy/optimize/zeros.py:173: RuntimeWarning: Tolerance of 8251920147.64 reached\n",
      "  warnings.warn(msg, RuntimeWarning)\n",
      "/home/harit.vishwakarma/.h/miniconda2/lib/python2.7/site-packages/scipy/optimize/zeros.py:173: RuntimeWarning: Tolerance of 7186522739.38 reached\n",
      "  warnings.warn(msg, RuntimeWarning)\n",
      "/home/harit.vishwakarma/.h/miniconda2/lib/python2.7/site-packages/scipy/optimize/zeros.py:173: RuntimeWarning: Tolerance of 1.23394438042e+12 reached\n",
      "  warnings.warn(msg, RuntimeWarning)\n"
     ]
    },
    {
     "name": "stdout",
     "output_type": "stream",
     "text": [
      " [-----------------100%-----------------] 1000 of 1000 complete in 23.4 sec\n",
      " iteration: 32\n",
      "4.12640792022 0.526341190856 0.139753063002 0.0222053007844 0.979061113432 0.933723433988 0.0221772152438 0.977822784756\n",
      " [                  2%                  ] 23 of 1000 complete in 0.5 sec"
     ]
    },
    {
     "name": "stderr",
     "output_type": "stream",
     "text": [
      "/home/harit.vishwakarma/.h/miniconda2/lib/python2.7/site-packages/scipy/optimize/zeros.py:173: RuntimeWarning: Tolerance of 8252332743.64 reached\n",
      "  warnings.warn(msg, RuntimeWarning)\n",
      "/home/harit.vishwakarma/.h/miniconda2/lib/python2.7/site-packages/scipy/optimize/zeros.py:173: RuntimeWarning: Tolerance of 7186882065.5 reached\n",
      "  warnings.warn(msg, RuntimeWarning)\n",
      "/home/harit.vishwakarma/.h/miniconda2/lib/python2.7/site-packages/scipy/optimize/zeros.py:173: RuntimeWarning: Tolerance of 17312879281.0 reached\n",
      "  warnings.warn(msg, RuntimeWarning)\n"
     ]
    },
    {
     "name": "stdout",
     "output_type": "stream",
     "text": [
      " [-----------------100%-----------------] 1000 of 1000 complete in 23.8 sec\n",
      " iteration: 33\n",
      "4.13875178131 0.52634122843 0.139753062788 0.0224712627451 0.97947498508 0.93372347928 0.022427613052 0.977572386948\n",
      " [                  2%                  ] 21 of 1000 complete in 0.5 sec"
     ]
    },
    {
     "name": "stderr",
     "output_type": "stream",
     "text": [
      "/home/harit.vishwakarma/.h/miniconda2/lib/python2.7/site-packages/scipy/optimize/zeros.py:173: RuntimeWarning: Tolerance of 8252745360.28 reached\n",
      "  warnings.warn(msg, RuntimeWarning)\n",
      "/home/harit.vishwakarma/.h/miniconda2/lib/python2.7/site-packages/scipy/optimize/zeros.py:173: RuntimeWarning: Tolerance of 7187241409.61 reached\n",
      "  warnings.warn(msg, RuntimeWarning)\n",
      "/home/harit.vishwakarma/.h/miniconda2/lib/python2.7/site-packages/scipy/optimize/zeros.py:173: RuntimeWarning: Tolerance of 17313744925.0 reached\n",
      "  warnings.warn(msg, RuntimeWarning)\n"
     ]
    },
    {
     "name": "stdout",
     "output_type": "stream",
     "text": [
      " [-----------------100%-----------------] 1000 of 1000 complete in 23.9 sec\n",
      " iteration: 34\n",
      "4.10782590833 0.526341282905 0.139753051697 0.022986464195 0.975576599528 0.933723627813 0.0230195418098 0.97698045819\n",
      " [                  2%                  ] 21 of 1000 complete in 0.5 sec"
     ]
    },
    {
     "name": "stderr",
     "output_type": "stream",
     "text": [
      "/home/harit.vishwakarma/.h/miniconda2/lib/python2.7/site-packages/scipy/optimize/zeros.py:173: RuntimeWarning: Tolerance of 8253157997.55 reached\n",
      "  warnings.warn(msg, RuntimeWarning)\n",
      "/home/harit.vishwakarma/.h/miniconda2/lib/python2.7/site-packages/scipy/optimize/zeros.py:173: RuntimeWarning: Tolerance of 7187600771.67 reached\n",
      "  warnings.warn(msg, RuntimeWarning)\n",
      "/home/harit.vishwakarma/.h/miniconda2/lib/python2.7/site-packages/scipy/optimize/zeros.py:173: RuntimeWarning: Tolerance of 17314610612.2 reached\n",
      "  warnings.warn(msg, RuntimeWarning)\n"
     ]
    },
    {
     "name": "stdout",
     "output_type": "stream",
     "text": [
      " [-----------------100%-----------------] 1000 of 1000 complete in 24.1 sec\n",
      " iteration: 35\n",
      "4.07698117662 0.52634131603 0.139753065651 0.0229111440582 0.976137039065 0.933723675947 0.022932972048 0.977067027952\n"
     ]
    },
    {
     "name": "stderr",
     "output_type": "stream",
     "text": [
      "/home/harit.vishwakarma/.h/miniconda2/lib/python2.7/site-packages/scipy/optimize/zeros.py:173: RuntimeWarning: Tolerance of 8253570655.45 reached\n",
      "  warnings.warn(msg, RuntimeWarning)\n",
      "/home/harit.vishwakarma/.h/miniconda2/lib/python2.7/site-packages/scipy/optimize/zeros.py:173: RuntimeWarning: Tolerance of 7187960151.72 reached\n",
      "  warnings.warn(msg, RuntimeWarning)\n",
      "/home/harit.vishwakarma/.h/miniconda2/lib/python2.7/site-packages/scipy/optimize/zeros.py:173: RuntimeWarning: Tolerance of 17315476342.8 reached\n",
      "  warnings.warn(msg, RuntimeWarning)\n"
     ]
    },
    {
     "name": "stdout",
     "output_type": "stream",
     "text": [
      " [-----------------100%-----------------] 1001 of 1000 complete in 23.5 sec\n",
      " iteration: 36\n",
      "4.05798549205 0.526341323637 0.139753083456 0.023770103676 0.978463766133 0.933723829446 0.0237171227116 0.976282877288\n",
      " [                  2%                  ] 22 of 1000 complete in 0.5 sec"
     ]
    },
    {
     "name": "stderr",
     "output_type": "stream",
     "text": [
      "/home/harit.vishwakarma/.h/miniconda2/lib/python2.7/site-packages/scipy/optimize/zeros.py:173: RuntimeWarning: Tolerance of 8253983333.98 reached\n",
      "  warnings.warn(msg, RuntimeWarning)\n",
      "/home/harit.vishwakarma/.h/miniconda2/lib/python2.7/site-packages/scipy/optimize/zeros.py:173: RuntimeWarning: Tolerance of 7188319549.72 reached\n",
      "  warnings.warn(msg, RuntimeWarning)\n",
      "/home/harit.vishwakarma/.h/miniconda2/lib/python2.7/site-packages/scipy/optimize/zeros.py:173: RuntimeWarning: Tolerance of 17316342116.6 reached\n",
      "  warnings.warn(msg, RuntimeWarning)\n"
     ]
    },
    {
     "name": "stdout",
     "output_type": "stream",
     "text": [
      " [-----------------100%-----------------] 1000 of 1000 complete in 24.3 sec\n",
      " iteration: 37\n",
      "4.02034384653 0.526341317441 0.139753093572 0.0238976164494 0.980010023456 0.933723768961 0.0238045966575 0.976195403342\n"
     ]
    },
    {
     "name": "stderr",
     "output_type": "stream",
     "text": [
      "/home/harit.vishwakarma/.h/miniconda2/lib/python2.7/site-packages/scipy/optimize/zeros.py:173: RuntimeWarning: Tolerance of 0.000862357206643 reached\n",
      "  warnings.warn(msg, RuntimeWarning)\n",
      "/home/harit.vishwakarma/.h/miniconda2/lib/python2.7/site-packages/scipy/optimize/zeros.py:173: RuntimeWarning: Tolerance of 8254396033.16 reached\n",
      "  warnings.warn(msg, RuntimeWarning)\n",
      "/home/harit.vishwakarma/.h/miniconda2/lib/python2.7/site-packages/scipy/optimize/zeros.py:173: RuntimeWarning: Tolerance of 7188678965.7 reached\n",
      "  warnings.warn(msg, RuntimeWarning)\n",
      "/home/harit.vishwakarma/.h/miniconda2/lib/python2.7/site-packages/scipy/optimize/zeros.py:173: RuntimeWarning: Tolerance of 17317207933.7 reached\n",
      "  warnings.warn(msg, RuntimeWarning)\n"
     ]
    },
    {
     "name": "stdout",
     "output_type": "stream",
     "text": [
      " [-----------------100%-----------------] 1000 of 1000 complete in 23.8 sec\n",
      " iteration: 38\n",
      "4.02752750799 0.5263413635 0.139753093548 0.0234640050176 0.975212884497 0.933723766757 0.0234950916197 0.97650490838\n",
      "Converged\n",
      "{'b_h': 0.976504908380317, 'a_s': 4.0275275079856891, 'r_0': 0.13975309354792539, 'kappa': 0.93372376675686086, 'b_s': 0.52634136350014238, 'a_h': 0.023495091619682999}\n"
     ]
    },
    {
     "name": "stderr",
     "output_type": "stream",
     "text": [
      "/home/harit.vishwakarma/.h/miniconda2/lib/python2.7/site-packages/scipy/optimize/zeros.py:173: RuntimeWarning: Tolerance of 2.13303700582e+12 reached\n",
      "  warnings.warn(msg, RuntimeWarning)\n",
      "/home/harit.vishwakarma/.h/miniconda2/lib/python2.7/site-packages/scipy/optimize/zeros.py:173: RuntimeWarning: Tolerance of 8254808752.95 reached\n",
      "  warnings.warn(msg, RuntimeWarning)\n",
      "/home/harit.vishwakarma/.h/miniconda2/lib/python2.7/site-packages/scipy/optimize/zeros.py:173: RuntimeWarning: Tolerance of 7189038399.66 reached\n",
      "  warnings.warn(msg, RuntimeWarning)\n",
      "/home/harit.vishwakarma/.h/miniconda2/lib/python2.7/site-packages/scipy/optimize/zeros.py:173: RuntimeWarning: Tolerance of 17318073794.1 reached\n",
      "  warnings.warn(msg, RuntimeWarning)\n"
     ]
    }
   ],
   "source": [
    "#htrm.fit_mle_params(tol=1e-18)\n",
    "htrm.add_realization(\"train\",T[:30])\n",
    "htrm.set_cur_realization_key(\"train\")\n",
    "htrm.fit_em_map_params()\n",
    "print htrm\n"
   ]
  },
  {
   "cell_type": "code",
   "execution_count": null,
   "metadata": {
    "collapsed": false
   },
   "outputs": [],
   "source": [
    "#htrm.plot()\n",
    "print htrm.log_likelihood()\n",
    "print htrm.log_likelihood_1()\n"
   ]
  },
  {
   "cell_type": "code",
   "execution_count": null,
   "metadata": {
    "collapsed": false
   },
   "outputs": [],
   "source": [
    "#HTRm Sampling Demo\n",
    "# Reproducing figures 3 A-E of the paper.\n",
    "# Figure 3.A\n",
    "%matplotlib inline\n",
    "np.random.seed(0)\n",
    "htrm = HTRm(a_s=0.0,b_s=1.0,r_0=0.1,kappa=1.0,a_h=0.0,b_h=1.0,T_s=[])\n",
    "\n",
    "T = htrm.sample(n_samples=100,t_0=1.0)\n",
    "htrm.plot()\n",
    "print htrm.log_likelihood_1()\n",
    "print htrm.coef_variation()\n",
    "print htrm.iei_corr()\n",
    "\n"
   ]
  },
  {
   "cell_type": "code",
   "execution_count": null,
   "metadata": {
    "collapsed": false
   },
   "outputs": [],
   "source": [
    "# Figure 3.B\n",
    "%matplotlib inline\n",
    "\n",
    "import numpy as np\n",
    "\n",
    "np.random.seed(0)\n",
    "#params = {\"a_s\":0.0, \"b_s\":1.0, \"r_0\":0.1, \"t_0\":1.0, \"kappa\":1.0, \"a_h\":1.5, \"b_h\":2.0,\"T_s\":T_s}\n",
    "htrm = HTRm(a_s=0.0,b_s=1.0,r_0=0.1,kappa=3.0,a_h=0.0,b_h=1.0,T_s=[])\n",
    "\n",
    "T = htrm.sample(n_samples=100,t_0=1.0)\n",
    "htrm.plot()\n",
    "print htrm.log_likelihood()\n",
    "print htrm.coef_variation()\n",
    "print htrm.iei_corr()\n"
   ]
  },
  {
   "cell_type": "code",
   "execution_count": null,
   "metadata": {
    "collapsed": true
   },
   "outputs": [],
   "source": []
  },
  {
   "cell_type": "code",
   "execution_count": null,
   "metadata": {
    "collapsed": false
   },
   "outputs": [],
   "source": [
    "# Figure 3.C\n",
    "%matplotlib inline\n",
    "\n",
    "import numpy as np\n",
    "\n",
    "np.random.seed(0)\n",
    "\n",
    "htrm = HTRm(a_s=0.0,b_s=1.0,r_0=0.1,kappa=0.7,a_h=0.0,b_h=1.0,T_s=[])\n",
    "\n",
    "T = htrm.sample(n_samples=100,t_0=1.0)\n",
    "\n",
    "htrm.plot()\n",
    "print htrm.coef_variation()\n",
    "print htrm.iei_corr()\n",
    "\n"
   ]
  },
  {
   "cell_type": "code",
   "execution_count": null,
   "metadata": {
    "collapsed": false
   },
   "outputs": [],
   "source": [
    "#Figure 3D\n",
    "np.random.seed(0)\n",
    "htrm = HTRm(a_s=0.0,b_s=1.0,r_0=0.1,kappa=1.0,a_h=1.5,b_h=2.0,T_s=[])\n",
    "T = htrm.sample(n_samples=100,t_0=1.0)\n",
    "\n",
    "htrm.plot()\n",
    "\n",
    "print htrm.coef_variation()\n",
    "print htrm.iei_corr()"
   ]
  },
  {
   "cell_type": "code",
   "execution_count": null,
   "metadata": {
    "collapsed": false
   },
   "outputs": [],
   "source": [
    "#Fig 3E\n",
    "np.random.seed(0)\n",
    "htrm = HTRm(a_s=0.0,b_s=1.0,r_0=0.1,kappa=1.5,a_h=1.8,b_h=4.0,T_s=[])\n",
    "T = htrm.sample(n_samples=100,t_0=1.0)\n",
    "htrm.plot()\n",
    "print htrm.log_likelihood_1()\n",
    "print htrm.coef_variation()\n",
    "print htrm.iei_corr()\n"
   ]
  },
  {
   "cell_type": "code",
   "execution_count": null,
   "metadata": {
    "collapsed": false
   },
   "outputs": [],
   "source": [
    "#Fig 3F\n",
    "htrm = HTRm(a_s=2.0,b_s=0.5,r_0=0.1,kappa=1.0,a_h=0.0,b_h=4.0,T_s=[20,160])\n",
    "T = htrm.sample(n_samples=50,t_0=1.0)\n",
    "\n",
    "htrm.plot()\n",
    "print htrm.log_likelihood_1()\n",
    "print htrm.coef_variation()\n",
    "print htrm.iei_corr()"
   ]
  },
  {
   "cell_type": "code",
   "execution_count": null,
   "metadata": {
    "collapsed": false
   },
   "outputs": [],
   "source": [
    "class X:\n",
    "    def __init__(self,x=5):\n",
    "        self.x = x\n",
    "    def a(self):\n",
    "        z = 20\n",
    "        def b(y=6):\n",
    "            print self.x+y\n",
    "            print z\n",
    "            print d\n",
    "            #z = 5\n",
    "        d = 5\n",
    "        b()\n",
    "        d = 30\n",
    "        b()\n",
    "        print z\n",
    "xx = X()\n",
    "xx.x = 6\n",
    "xx.a()"
   ]
  },
  {
   "cell_type": "code",
   "execution_count": null,
   "metadata": {
    "collapsed": true
   },
   "outputs": [],
   "source": []
  }
 ],
 "metadata": {
  "kernelspec": {
   "display_name": "Python 2",
   "language": "python",
   "name": "python2"
  },
  "language_info": {
   "codemirror_mode": {
    "name": "ipython",
    "version": 2
   },
   "file_extension": ".py",
   "mimetype": "text/x-python",
   "name": "python",
   "nbconvert_exporter": "python",
   "pygments_lexer": "ipython2",
   "version": "2.7.11"
  }
 },
 "nbformat": 4,
 "nbformat_minor": 0
}
